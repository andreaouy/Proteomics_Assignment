{
  "nbformat": 4,
  "nbformat_minor": 0,
  "metadata": {
    "colab": {
      "name": "BioInfo_Assign_Topic5_RT.ipynb",
      "provenance": [],
      "private_outputs": true
    },
    "kernelspec": {
      "name": "python3",
      "display_name": "Python 3"
    }
  },
  "cells": [
    {
      "cell_type": "code",
      "metadata": {
        "id": "pmSJpV_xCKuv"
      },
      "source": [
        "!pip install -q cptac"
      ],
      "execution_count": null,
      "outputs": []
    },
    {
      "cell_type": "code",
      "metadata": {
        "id": "vS9CLT_YBpst"
      },
      "source": [
        "# import mnodules\n",
        "import cptac\n",
        "import seaborn as sns\n",
        "import pandas as pd\n",
        "import matplotlib.pyplot as plt\n",
        "import numpy as np\n",
        "import seaborn as sns\n",
        "import os\n",
        "from scipy.stats import shapiro\n",
        "\n",
        "import warnings\n",
        "warnings.filterwarnings(\"ignore\")\n",
        "sns.set(rc={'axes.facecolor':'white', 'figure.facecolor':'white'})\n"
      ],
      "execution_count": null,
      "outputs": []
    },
    {
      "cell_type": "code",
      "metadata": {
        "id": "7yoq5zhWCRsH"
      },
      "source": [
        "# download endometrial \n",
        "cptac.download(dataset=\"Endometrial\")"
      ],
      "execution_count": null,
      "outputs": []
    },
    {
      "cell_type": "code",
      "metadata": {
        "id": "_jpYzHMaCDz5"
      },
      "source": [
        "# Creates a new Endometrial class\n",
        "endo = cptac.Endometrial()\n",
        "\n",
        "# Load the proteomics dataframe\n",
        "df_prot = endo.get_proteomics()\n",
        "print(df_prot.shape)\n",
        "df_prot.head()\n"
      ],
      "execution_count": null,
      "outputs": []
    },
    {
      "cell_type": "code",
      "metadata": {
        "id": "Jwmb8FyiD33P"
      },
      "source": [
        "# read in the desired gene list from the text file (make sure its here)\n",
        "des_genes = pd.read_csv('filtered_genes_list.txt', header = None)\n",
        "\n",
        "# only retain the desired genes in the DF\n",
        "df_prot_edit = df_prot[des_genes[0]]\n",
        "df_prot_edit.shape\n",
        "df_prot_edit.head()"
      ],
      "execution_count": null,
      "outputs": []
    },
    {
      "cell_type": "code",
      "metadata": {
        "id": "slkUZ5-kt3Bn"
      },
      "source": [
        "# save as excel (gene levels per patients)\n",
        "df_prot_edit.to_excel(\"patients_genes.xlsx\") \n",
        "# this sheet is provided as a link to google sheets in the write up"
      ],
      "execution_count": null,
      "outputs": []
    },
    {
      "cell_type": "code",
      "metadata": {
        "id": "-yvsm3R8urKN"
      },
      "source": [
        "# get clinical characteristics\n",
        "df_clin = endo.get_clinical()\n",
        "df_clin.to_excel(\"patients_clinical.xlsx\") \n",
        "# this sheet is provided as a link to google sheets in the write up"
      ],
      "execution_count": null,
      "outputs": []
    },
    {
      "cell_type": "code",
      "metadata": {
        "id": "C7G_MfZVRSB9"
      },
      "source": [
        "# apply Shapiro test to each gene to checj if it is normally distributed\n",
        "# the p-value used for hypothesis testing = 0.1 (Royston, P. (1995). Remark AS R94: A Remark on Algorithm AS 181: The W-test for Normality. Appl. Stat. 44, 547.)\n",
        "\n",
        "p = 0.1\n",
        "res = df_prot_edit.apply(lambda x: shapiro(x), axis=0)\n",
        "re1 = res.apply(lambda x: '{:<20.3e}'.format(x[0]))\n",
        "re2 = res.apply(lambda x: '{:<20.3e}'.format(x[1]))\n",
        "re3 = res.apply(lambda x: '{:}'.format(x[1] > p))\n",
        "total_df = pd.DataFrame(columns = ['Name', 't-test', 'p-value','Sig'])\n",
        "total_df['Name'] = df_prot_edit.columns\n",
        "total_df['t-test'] = np.asarray(re1)\n",
        "total_df['p-value'] = np.asarray(re2)\n",
        "total_df['Sig'] = np.asarray(re3)\n",
        "\n",
        "total_df.head()"
      ],
      "execution_count": null,
      "outputs": []
    },
    {
      "cell_type": "code",
      "metadata": {
        "id": "Hp_MScJqWi94"
      },
      "source": [
        "total_df.Sig.value_counts()\n",
        "# 56 are not normally distributed and 22 are"
      ],
      "execution_count": null,
      "outputs": []
    },
    {
      "cell_type": "code",
      "metadata": {
        "id": "OHVlTysudgeD"
      },
      "source": [
        "# plot the distribution of each gene \n",
        "# also title the results of the Shapiro tests\n",
        "for j in range(13):\n",
        "  fig, ax = plt.subplots(1,6,  figsize=(18, 4), sharey = True)\n",
        "  cols_todo = df_prot_edit.columns.to_list()\n",
        "\n",
        "  for i in range(6):\n",
        "    sns.distplot(df_prot_edit[cols_todo[i+(j*6)]], ax = ax[i])\n",
        "    str_title = 'Shapiro test \\n p-val = '+ (total_df.loc[total_df['Name'] == cols_todo[i+(j*6)], 'p-value'].iloc[0]) + '\\n' + (total_df.loc[total_df['Name'] == cols_todo[i+(j*6)], 'Sig'].iloc[0])\n",
        "    ax[i].set_title(str_title)\n",
        "  plt.show()"
      ],
      "execution_count": null,
      "outputs": []
    },
    {
      "cell_type": "code",
      "metadata": {
        "id": "-qIBnD44E0-V"
      },
      "source": [
        "# make a heatmap\n",
        "sns.heatmap(df_prot_edit.corr(method = 'spearman'), cmap=\"PiYG\")"
      ],
      "execution_count": null,
      "outputs": []
    },
    {
      "cell_type": "code",
      "metadata": {
        "id": "IiZC761aE-W2"
      },
      "source": [
        "# make a clustermap\n",
        "plt.figure(figsize=(16, 16))\n",
        "sns.clustermap(df_prot_edit.corr(method = 'spearman'), cmap=\"PiYG\",  xticklabels=True, yticklabels=True, linewidths=0.5)"
      ],
      "execution_count": null,
      "outputs": []
    },
    {
      "cell_type": "code",
      "metadata": {
        "id": "1bvWd3yl0ecs"
      },
      "source": [
        "g = sns.clustermap(df_prot_edit.corr(method = 'spearman'), cmap=\"PiYG\",  xticklabels=True, yticklabels=True, linewidths=0.5)"
      ],
      "execution_count": null,
      "outputs": []
    },
    {
      "cell_type": "code",
      "metadata": {
        "id": "RObdB8e50fY3"
      },
      "source": [
        "df_prot_edit.columns[g.dendrogram_col.reordered_ind]"
      ],
      "execution_count": null,
      "outputs": []
    },
    {
      "cell_type": "code",
      "metadata": {
        "id": "ycyLutTC0jwX"
      },
      "source": [
        ""
      ],
      "execution_count": null,
      "outputs": []
    }
  ]
}